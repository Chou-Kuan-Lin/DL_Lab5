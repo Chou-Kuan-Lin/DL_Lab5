{
 "cells": [
  {
   "cell_type": "code",
   "execution_count": 2,
   "metadata": {
    "ExecuteTime": {
     "end_time": "2019-08-20T13:19:50.402597Z",
     "start_time": "2019-08-20T13:19:48.048905Z"
    }
   },
   "outputs": [],
   "source": [
    "# import\n",
    "import tkinter\n",
    "from tkinter import filedialog\n",
    "import matplotlib.pyplot"
   ]
  },
  {
   "cell_type": "code",
   "execution_count": 101,
   "metadata": {
    "ExecuteTime": {
     "end_time": "2019-08-21T03:53:53.381537Z",
     "start_time": "2019-08-21T03:53:53.374555Z"
    }
   },
   "outputs": [],
   "source": [
    "# custom function\n",
    "def readFile():\n",
    "    fileName = None\n",
    "\n",
    "    root = tkinter.Tk()\n",
    "    root.withdraw()\n",
    "    root.wm_attributes(\"-topmost\", 1)\n",
    "    fileName = filedialog.askopenfilename(\n",
    "        parent=root,\n",
    "        title=\"Choose Training Data File\",\n",
    "        filetypes=[(\"Training Data\", \"*.txt\")],\n",
    "        multiple=False)\n",
    "\n",
    "    return fileName\n",
    "\n",
    "\n",
    "def getValue(fileName):\n",
    "    file = open(fileName, \"r\")\n",
    "    value = []\n",
    "    for data in file.readlines():\n",
    "        value.append(float(data.replace(\"\\n\", \"\")))\n",
    "\n",
    "    return value\n",
    "\n",
    "\n",
    "def plotValue(name, value):\n",
    "    matplotlib.pyplot.plot(value, label=name, color='#0000FF')\n",
    "    matplotlib.pyplot.legend(loc='best')\n",
    "    matplotlib.pyplot.savefig(name)\n",
    "    matplotlib.pyplot.show()\n",
    "    matplotlib.pyplot.clf()"
   ]
  },
  {
   "cell_type": "code",
   "execution_count": 102,
   "metadata": {
    "ExecuteTime": {
     "end_time": "2019-08-21T03:53:56.440663Z",
     "start_time": "2019-08-21T03:53:54.958884Z"
    }
   },
   "outputs": [
    {
     "data": {
      "image/png": "[encoded data removed]",
      "text/plain": [
       "<Figure size 432x288 with 1 Axes>"
      ]
     },
     "metadata": {
      "needs_background": "light"
     },
     "output_type": "display_data"
    },
    {
     "data": {
      "text/plain": [
       "<Figure size 432x288 with 0 Axes>"
      ]
     },
     "metadata": {},
     "output_type": "display_data"
    }
   ],
   "source": [
    "fileName = readFile()\n",
    "value = getValue(fileName)\n",
    "path = fileName.replace(labelName, \"\").replace(fileName[-4:], \"\")\n",
    "labelName = str(fileName.split(\"/\")[-1:][0])[:-4]\n",
    "plotValue(labelName, value)"
   ]
  }
 ],
 "metadata": {
  "kernelspec": {
   "display_name": "Python 3",
   "language": "python",
   "name": "python3"
  },
  "language_info": {
   "codemirror_mode": {
    "name": "ipython",
    "version": 3
   },
   "file_extension": ".py",
   "mimetype": "text/x-python",
   "name": "python",
   "nbconvert_exporter": "python",
   "pygments_lexer": "ipython3",
   "version": "3.7.1"
  },
  "varInspector": {
   "cols": {
    "lenName": 16,
    "lenType": 16,
    "lenVar": 40
   },
   "kernels_config": {
    "python": {
     "delete_cmd_postfix": "",
     "delete_cmd_prefix": "del ",
     "library": "var_list.py",
     "varRefreshCmd": "print(var_dic_list())"
    },
    "r": {
     "delete_cmd_postfix": ") ",
     "delete_cmd_prefix": "rm(",
     "library": "var_list.r",
     "varRefreshCmd": "cat(var_dic_list()) "
    }
   },
   "types_to_exclude": [
    "module",
    "function",
    "builtin_function_or_method",
    "instance",
    "_Feature"
   ],
   "window_display": false
  }
 },
 "nbformat": 4,
 "nbformat_minor": 2
}
